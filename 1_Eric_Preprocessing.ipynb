{
 "cells": [
  {
   "cell_type": "code",
   "execution_count": 28,
   "metadata": {
    "collapsed": true
   },
   "outputs": [],
   "source": [
    "from our_utilities import loadsonnets\n",
    "import numpy as np\n",
    "import matplotlib.pyplot as plt\n",
    "%matplotlib inline\n",
    "import pandas as pd"
   ]
  },
  {
   "cell_type": "code",
   "execution_count": 2,
   "metadata": {},
   "outputs": [],
   "source": [
    "sonnets, word2syll, word2index, index2word = loadsonnets(dictname='../Release/data/Syllable_dictionary.txt',\n",
    "                      filename='../Release/data/shakespeare.txt')"
   ]
  },
  {
   "cell_type": "code",
   "execution_count": 3,
   "metadata": {},
   "outputs": [
    {
     "data": {
      "text/plain": [
       "153"
      ]
     },
     "execution_count": 3,
     "metadata": {},
     "output_type": "execute_result"
    }
   ],
   "source": [
    "len(sonnets)"
   ]
  },
  {
   "cell_type": "code",
   "execution_count": 4,
   "metadata": {},
   "outputs": [
    {
     "data": {
      "text/plain": [
       "120"
      ]
     },
     "execution_count": 4,
     "metadata": {},
     "output_type": "execute_result"
    }
   ],
   "source": [
    "len(sonnets[0])"
   ]
  },
  {
   "cell_type": "code",
   "execution_count": 5,
   "metadata": {},
   "outputs": [
    {
     "data": {
      "text/plain": [
       "129"
      ]
     },
     "execution_count": 5,
     "metadata": {},
     "output_type": "execute_result"
    }
   ],
   "source": [
    "len(sonnets[1])"
   ]
  },
  {
   "cell_type": "code",
   "execution_count": 6,
   "metadata": {},
   "outputs": [
    {
     "data": {
      "text/plain": [
       "128.20915032679738"
      ]
     },
     "execution_count": 6,
     "metadata": {},
     "output_type": "execute_result"
    }
   ],
   "source": [
    "lengths = [len(sonnets[i]) for i in range(len(sonnets))]\n",
    "sum(lengths) / len(lengths)"
   ]
  },
  {
   "cell_type": "code",
   "execution_count": 4,
   "metadata": {},
   "outputs": [
    {
     "name": "stdout",
     "output_type": "stream",
     "text": [
      "but wherefore do not you a mightier way \\ make war upon this bloody tyrant time \\ and fortify your self in your decay \\ with means more blessed than my barren rhyme \\ now stand you on the top of happy hours \\ and many maiden gardens yet unset \\ with virtuous wish would bear you living flowers \\ much liker than your painted counterfeit \\ so should the lines of life that life repair \\ which this time's pencil or my pupil pen \\ neither in inward worth nor outward fair \\ can make you live your self in eyes of men \\ to give away your self keeps your self still \\ and you must live drawn by your own sweet skill \\ "
     ]
    }
   ],
   "source": [
    "i = 15\n",
    "sonnet = sonnets[i]\n",
    "for w in sonnet:\n",
    "    print(index2word[w], end=\"\")\n",
    "    print(\" \", end=\"\")"
   ]
  },
  {
   "cell_type": "code",
   "execution_count": 5,
   "metadata": {},
   "outputs": [
    {
     "name": "stdout",
     "output_type": "stream",
     "text": [
      "my mistress eyes are nothing like the sun \\ coral is far more red than her lips red \\ if snow be white why then her breasts are dun \\ if hairs be wires black wires grow on her head \\ i have seen roses damasked red and white \\ but no such roses see i in her cheeks \\ and in some perfumes is there more delight \\ than in the breath that from my mistress reeks \\ i love to hear her speak yet well i know \\ that music hath a far more pleasing sound \\ i grant i never saw a goddess go \\ my mistress when she walks treads on the ground \\ and yet by heaven i think my love as rare \\ as any she belied with false compare \\ "
     ]
    }
   ],
   "source": [
    "i = 129\n",
    "sonnet = sonnets[i]\n",
    "for w in sonnet:\n",
    "    print(index2word[w], end=\"\")\n",
    "    print(\" \", end=\"\")"
   ]
  },
  {
   "cell_type": "code",
   "execution_count": 8,
   "metadata": {},
   "outputs": [],
   "source": [
    "nwords = len(word2index.keys())\n",
    "wordtally = np.zeros(nwords)\n",
    "\n",
    "for s, sonnet in enumerate(sonnets):\n",
    "    #len_sonnet = len(sonnet)\n",
    "    for w in sonnet:\n",
    "        wordtally[w] += 1"
   ]
  },
  {
   "cell_type": "code",
   "execution_count": 19,
   "metadata": {},
   "outputs": [
    {
     "name": "stdout",
     "output_type": "stream",
     "text": [
      "3205\n",
      "False\n",
      "[  1.50000000e+01   1.00000000e+00   2.00000000e+00   1.00000000e+00\n",
      "   2.14100000e+03]\n",
      "zealous\n",
      "\\\n"
     ]
    }
   ],
   "source": [
    "w0 = np.argmax(wordtally)\n",
    "print(w0)\n",
    "print(w0 in index2word)\n",
    "print(wordtally[-5:])\n",
    "print(index2word[w0-1])\n",
    "print(index2word[-1])"
   ]
  },
  {
   "cell_type": "code",
   "execution_count": 27,
   "metadata": {},
   "outputs": [
    {
     "name": "stdout",
     "output_type": "stream",
     "text": [
      "113\n",
      "and\n"
     ]
    }
   ],
   "source": [
    "wordtally_noEOL = wordtally[:-1]\n",
    "w0 = np.argmax(wordtally_noEOL)\n",
    "print(w0)\n",
    "print(index2word[w0])"
   ]
  },
  {
   "cell_type": "code",
   "execution_count": 24,
   "metadata": {},
   "outputs": [
    {
     "data": {
      "text/plain": [
       "[<matplotlib.lines.Line2D at 0x11998b0f0>]"
      ]
     },
     "execution_count": 24,
     "metadata": {},
     "output_type": "execute_result"
    },
    {
     "data": {
      "image/png": "[encoded data removed]",
      "text/plain": [
       "<matplotlib.figure.Figure at 0x1198a6e48>"
      ]
     },
     "metadata": {},
     "output_type": "display_data"
    }
   ],
   "source": [
    "plt.plot(sorted(wordtally_noEOL))"
   ]
  },
  {
   "cell_type": "code",
   "execution_count": 30,
   "metadata": {},
   "outputs": [],
   "source": [
    "wordindices = range(0, nwords-1) #nwords includes \\\n",
    "words = [index2word[i] for i in wordindices]\n",
    "counts = wordtally_noEOL\n",
    "words = pd.DataFrame({'index':wordindices, 'word':words, 'count':counts})"
   ]
  },
  {
   "cell_type": "code",
   "execution_count": 36,
   "metadata": {},
   "outputs": [
    {
     "data": {
      "text/html": [
       "<div>\n",
       "<style>\n",
       "    .dataframe thead tr:only-child th {\n",
       "        text-align: right;\n",
       "    }\n",
       "\n",
       "    .dataframe thead th {\n",
       "        text-align: left;\n",
       "    }\n",
       "\n",
       "    .dataframe tbody tr th {\n",
       "        vertical-align: top;\n",
       "    }\n",
       "</style>\n",
       "<table border=\"1\" class=\"dataframe\">\n",
       "  <thead>\n",
       "    <tr style=\"text-align: right;\">\n",
       "      <th></th>\n",
       "      <th>count</th>\n",
       "      <th>index</th>\n",
       "      <th>word</th>\n",
       "    </tr>\n",
       "  </thead>\n",
       "  <tbody>\n",
       "    <tr>\n",
       "      <th>113</th>\n",
       "      <td>487.0</td>\n",
       "      <td>113</td>\n",
       "      <td>and</td>\n",
       "    </tr>\n",
       "    <tr>\n",
       "      <th>2721</th>\n",
       "      <td>427.0</td>\n",
       "      <td>2721</td>\n",
       "      <td>the</td>\n",
       "    </tr>\n",
       "    <tr>\n",
       "      <th>2793</th>\n",
       "      <td>407.0</td>\n",
       "      <td>2793</td>\n",
       "      <td>to</td>\n",
       "    </tr>\n",
       "    <tr>\n",
       "      <th>1763</th>\n",
       "      <td>393.0</td>\n",
       "      <td>1763</td>\n",
       "      <td>my</td>\n",
       "    </tr>\n",
       "    <tr>\n",
       "      <th>1843</th>\n",
       "      <td>368.0</td>\n",
       "      <td>1843</td>\n",
       "      <td>of</td>\n",
       "    </tr>\n",
       "    <tr>\n",
       "      <th>1365</th>\n",
       "      <td>342.0</td>\n",
       "      <td>1365</td>\n",
       "      <td>i</td>\n",
       "    </tr>\n",
       "    <tr>\n",
       "      <th>1398</th>\n",
       "      <td>321.0</td>\n",
       "      <td>1398</td>\n",
       "      <td>in</td>\n",
       "    </tr>\n",
       "    <tr>\n",
       "      <th>2719</th>\n",
       "      <td>319.0</td>\n",
       "      <td>2719</td>\n",
       "      <td>that</td>\n",
       "    </tr>\n",
       "    <tr>\n",
       "      <th>2775</th>\n",
       "      <td>287.0</td>\n",
       "      <td>2775</td>\n",
       "      <td>thy</td>\n",
       "    </tr>\n",
       "    <tr>\n",
       "      <th>2753</th>\n",
       "      <td>235.0</td>\n",
       "      <td>2753</td>\n",
       "      <td>thou</td>\n",
       "    </tr>\n",
       "    <tr>\n",
       "      <th>3116</th>\n",
       "      <td>181.0</td>\n",
       "      <td>3116</td>\n",
       "      <td>with</td>\n",
       "    </tr>\n",
       "    <tr>\n",
       "      <th>1056</th>\n",
       "      <td>169.0</td>\n",
       "      <td>1056</td>\n",
       "      <td>for</td>\n",
       "    </tr>\n",
       "    <tr>\n",
       "      <th>1441</th>\n",
       "      <td>168.0</td>\n",
       "      <td>1441</td>\n",
       "      <td>is</td>\n",
       "    </tr>\n",
       "    <tr>\n",
       "      <th>1809</th>\n",
       "      <td>166.0</td>\n",
       "      <td>1809</td>\n",
       "      <td>not</td>\n",
       "    </tr>\n",
       "    <tr>\n",
       "      <th>1670</th>\n",
       "      <td>164.0</td>\n",
       "      <td>1670</td>\n",
       "      <td>me</td>\n",
       "    </tr>\n",
       "    <tr>\n",
       "      <th>2722</th>\n",
       "      <td>162.0</td>\n",
       "      <td>2722</td>\n",
       "      <td>thee</td>\n",
       "    </tr>\n",
       "    <tr>\n",
       "      <th>391</th>\n",
       "      <td>161.0</td>\n",
       "      <td>391</td>\n",
       "      <td>but</td>\n",
       "    </tr>\n",
       "    <tr>\n",
       "      <th>1610</th>\n",
       "      <td>161.0</td>\n",
       "      <td>1610</td>\n",
       "      <td>love</td>\n",
       "    </tr>\n",
       "    <tr>\n",
       "      <th>5</th>\n",
       "      <td>160.0</td>\n",
       "      <td>5</td>\n",
       "      <td>a</td>\n",
       "    </tr>\n",
       "    <tr>\n",
       "      <th>2474</th>\n",
       "      <td>144.0</td>\n",
       "      <td>2474</td>\n",
       "      <td>so</td>\n",
       "    </tr>\n",
       "    <tr>\n",
       "      <th>208</th>\n",
       "      <td>142.0</td>\n",
       "      <td>208</td>\n",
       "      <td>be</td>\n",
       "    </tr>\n",
       "    <tr>\n",
       "      <th>151</th>\n",
       "      <td>121.0</td>\n",
       "      <td>151</td>\n",
       "      <td>as</td>\n",
       "    </tr>\n",
       "    <tr>\n",
       "      <th>85</th>\n",
       "      <td>117.0</td>\n",
       "      <td>85</td>\n",
       "      <td>all</td>\n",
       "    </tr>\n",
       "    <tr>\n",
       "      <th>3196</th>\n",
       "      <td>112.0</td>\n",
       "      <td>3196</td>\n",
       "      <td>you</td>\n",
       "    </tr>\n",
       "    <tr>\n",
       "      <th>1445</th>\n",
       "      <td>111.0</td>\n",
       "      <td>1445</td>\n",
       "      <td>it</td>\n",
       "    </tr>\n",
       "    <tr>\n",
       "      <th>3068</th>\n",
       "      <td>106.0</td>\n",
       "      <td>3068</td>\n",
       "      <td>which</td>\n",
       "    </tr>\n",
       "    <tr>\n",
       "      <th>3055</th>\n",
       "      <td>106.0</td>\n",
       "      <td>3055</td>\n",
       "      <td>when</td>\n",
       "    </tr>\n",
       "    <tr>\n",
       "      <th>1323</th>\n",
       "      <td>105.0</td>\n",
       "      <td>1323</td>\n",
       "      <td>his</td>\n",
       "    </tr>\n",
       "    <tr>\n",
       "      <th>2749</th>\n",
       "      <td>103.0</td>\n",
       "      <td>2749</td>\n",
       "      <td>this</td>\n",
       "    </tr>\n",
       "    <tr>\n",
       "      <th>3199</th>\n",
       "      <td>100.0</td>\n",
       "      <td>3199</td>\n",
       "      <td>your</td>\n",
       "    </tr>\n",
       "    <tr>\n",
       "      <th>766</th>\n",
       "      <td>88.0</td>\n",
       "      <td>766</td>\n",
       "      <td>doth</td>\n",
       "    </tr>\n",
       "    <tr>\n",
       "      <th>393</th>\n",
       "      <td>87.0</td>\n",
       "      <td>393</td>\n",
       "      <td>by</td>\n",
       "    </tr>\n",
       "    <tr>\n",
       "      <th>759</th>\n",
       "      <td>84.0</td>\n",
       "      <td>759</td>\n",
       "      <td>do</td>\n",
       "    </tr>\n",
       "    <tr>\n",
       "      <th>1109</th>\n",
       "      <td>81.0</td>\n",
       "      <td>1109</td>\n",
       "      <td>from</td>\n",
       "    </tr>\n",
       "    <tr>\n",
       "      <th>1858</th>\n",
       "      <td>80.0</td>\n",
       "      <td>1858</td>\n",
       "      <td>on</td>\n",
       "    </tr>\n",
       "    <tr>\n",
       "      <th>1868</th>\n",
       "      <td>79.0</td>\n",
       "      <td>1868</td>\n",
       "      <td>or</td>\n",
       "    </tr>\n",
       "    <tr>\n",
       "      <th>1804</th>\n",
       "      <td>79.0</td>\n",
       "      <td>1804</td>\n",
       "      <td>no</td>\n",
       "    </tr>\n",
       "    <tr>\n",
       "      <th>2339</th>\n",
       "      <td>77.0</td>\n",
       "      <td>2339</td>\n",
       "      <td>self</td>\n",
       "    </tr>\n",
       "    <tr>\n",
       "      <th>1266</th>\n",
       "      <td>76.0</td>\n",
       "      <td>1266</td>\n",
       "      <td>have</td>\n",
       "    </tr>\n",
       "    <tr>\n",
       "      <th>2729</th>\n",
       "      <td>74.0</td>\n",
       "      <td>2729</td>\n",
       "      <td>then</td>\n",
       "    </tr>\n",
       "    <tr>\n",
       "      <th>3051</th>\n",
       "      <td>70.0</td>\n",
       "      <td>3051</td>\n",
       "      <td>what</td>\n",
       "    </tr>\n",
       "    <tr>\n",
       "      <th>141</th>\n",
       "      <td>69.0</td>\n",
       "      <td>141</td>\n",
       "      <td>are</td>\n",
       "    </tr>\n",
       "    <tr>\n",
       "      <th>1371</th>\n",
       "      <td>68.0</td>\n",
       "      <td>1371</td>\n",
       "      <td>if</td>\n",
       "    </tr>\n",
       "    <tr>\n",
       "      <th>1731</th>\n",
       "      <td>64.0</td>\n",
       "      <td>1731</td>\n",
       "      <td>more</td>\n",
       "    </tr>\n",
       "    <tr>\n",
       "      <th>3092</th>\n",
       "      <td>64.0</td>\n",
       "      <td>3092</td>\n",
       "      <td>will</td>\n",
       "    </tr>\n",
       "    <tr>\n",
       "      <th>2724</th>\n",
       "      <td>63.0</td>\n",
       "      <td>2724</td>\n",
       "      <td>their</td>\n",
       "    </tr>\n",
       "    <tr>\n",
       "      <th>1706</th>\n",
       "      <td>63.0</td>\n",
       "      <td>1706</td>\n",
       "      <td>mine</td>\n",
       "    </tr>\n",
       "    <tr>\n",
       "      <th>2378</th>\n",
       "      <td>59.0</td>\n",
       "      <td>2378</td>\n",
       "      <td>shall</td>\n",
       "    </tr>\n",
       "    <tr>\n",
       "      <th>2661</th>\n",
       "      <td>55.0</td>\n",
       "      <td>2661</td>\n",
       "      <td>sweet</td>\n",
       "    </tr>\n",
       "    <tr>\n",
       "      <th>926</th>\n",
       "      <td>53.0</td>\n",
       "      <td>926</td>\n",
       "      <td>eyes</td>\n",
       "    </tr>\n",
       "  </tbody>\n",
       "</table>\n",
       "</div>"
      ],
      "text/plain": [
       "      count  index   word\n",
       "113   487.0    113    and\n",
       "2721  427.0   2721    the\n",
       "2793  407.0   2793     to\n",
       "1763  393.0   1763     my\n",
       "1843  368.0   1843     of\n",
       "1365  342.0   1365      i\n",
       "1398  321.0   1398     in\n",
       "2719  319.0   2719   that\n",
       "2775  287.0   2775    thy\n",
       "2753  235.0   2753   thou\n",
       "3116  181.0   3116   with\n",
       "1056  169.0   1056    for\n",
       "1441  168.0   1441     is\n",
       "1809  166.0   1809    not\n",
       "1670  164.0   1670     me\n",
       "2722  162.0   2722   thee\n",
       "391   161.0    391    but\n",
       "1610  161.0   1610   love\n",
       "5     160.0      5      a\n",
       "2474  144.0   2474     so\n",
       "208   142.0    208     be\n",
       "151   121.0    151     as\n",
       "85    117.0     85    all\n",
       "3196  112.0   3196    you\n",
       "1445  111.0   1445     it\n",
       "3068  106.0   3068  which\n",
       "3055  106.0   3055   when\n",
       "1323  105.0   1323    his\n",
       "2749  103.0   2749   this\n",
       "3199  100.0   3199   your\n",
       "766    88.0    766   doth\n",
       "393    87.0    393     by\n",
       "759    84.0    759     do\n",
       "1109   81.0   1109   from\n",
       "1858   80.0   1858     on\n",
       "1868   79.0   1868     or\n",
       "1804   79.0   1804     no\n",
       "2339   77.0   2339   self\n",
       "1266   76.0   1266   have\n",
       "2729   74.0   2729   then\n",
       "3051   70.0   3051   what\n",
       "141    69.0    141    are\n",
       "1371   68.0   1371     if\n",
       "1731   64.0   1731   more\n",
       "3092   64.0   3092   will\n",
       "2724   63.0   2724  their\n",
       "1706   63.0   1706   mine\n",
       "2378   59.0   2378  shall\n",
       "2661   55.0   2661  sweet\n",
       "926    53.0    926   eyes"
      ]
     },
     "execution_count": 36,
     "metadata": {},
     "output_type": "execute_result"
    }
   ],
   "source": [
    "words.sort_values(by='count', ascending=False).head(50)"
   ]
  },
  {
   "cell_type": "code",
   "execution_count": 39,
   "metadata": {},
   "outputs": [
    {
     "data": {
      "text/html": [
       "<div>\n",
       "<style>\n",
       "    .dataframe thead tr:only-child th {\n",
       "        text-align: right;\n",
       "    }\n",
       "\n",
       "    .dataframe thead th {\n",
       "        text-align: left;\n",
       "    }\n",
       "\n",
       "    .dataframe tbody tr th {\n",
       "        vertical-align: top;\n",
       "    }\n",
       "</style>\n",
       "<table border=\"1\" class=\"dataframe\">\n",
       "  <thead>\n",
       "    <tr style=\"text-align: right;\">\n",
       "      <th></th>\n",
       "      <th>count</th>\n",
       "      <th>index</th>\n",
       "      <th>word</th>\n",
       "    </tr>\n",
       "  </thead>\n",
       "  <tbody>\n",
       "    <tr>\n",
       "      <th>317</th>\n",
       "      <td>4.0</td>\n",
       "      <td>317</td>\n",
       "      <td>body</td>\n",
       "    </tr>\n",
       "    <tr>\n",
       "      <th>1123</th>\n",
       "      <td>4.0</td>\n",
       "      <td>1123</td>\n",
       "      <td>gain</td>\n",
       "    </tr>\n",
       "    <tr>\n",
       "      <th>2204</th>\n",
       "      <td>4.0</td>\n",
       "      <td>2204</td>\n",
       "      <td>report</td>\n",
       "    </tr>\n",
       "    <tr>\n",
       "      <th>1157</th>\n",
       "      <td>4.0</td>\n",
       "      <td>1157</td>\n",
       "      <td>given</td>\n",
       "    </tr>\n",
       "    <tr>\n",
       "      <th>2177</th>\n",
       "      <td>4.0</td>\n",
       "      <td>2177</td>\n",
       "      <td>rehearse</td>\n",
       "    </tr>\n",
       "    <tr>\n",
       "      <th>2188</th>\n",
       "      <td>4.0</td>\n",
       "      <td>2188</td>\n",
       "      <td>remembered</td>\n",
       "    </tr>\n",
       "    <tr>\n",
       "      <th>1190</th>\n",
       "      <td>4.0</td>\n",
       "      <td>1190</td>\n",
       "      <td>grant</td>\n",
       "    </tr>\n",
       "    <tr>\n",
       "      <th>2213</th>\n",
       "      <td>4.0</td>\n",
       "      <td>2213</td>\n",
       "      <td>respect</td>\n",
       "    </tr>\n",
       "    <tr>\n",
       "      <th>2192</th>\n",
       "      <td>4.0</td>\n",
       "      <td>2192</td>\n",
       "      <td>removed</td>\n",
       "    </tr>\n",
       "    <tr>\n",
       "      <th>2687</th>\n",
       "      <td>4.0</td>\n",
       "      <td>2687</td>\n",
       "      <td>taste</td>\n",
       "    </tr>\n",
       "  </tbody>\n",
       "</table>\n",
       "</div>"
      ],
      "text/plain": [
       "      count  index        word\n",
       "317     4.0    317        body\n",
       "1123    4.0   1123        gain\n",
       "2204    4.0   2204      report\n",
       "1157    4.0   1157       given\n",
       "2177    4.0   2177    rehearse\n",
       "2188    4.0   2188  remembered\n",
       "1190    4.0   1190       grant\n",
       "2213    4.0   2213     respect\n",
       "2192    4.0   2192     removed\n",
       "2687    4.0   2687       taste"
      ]
     },
     "execution_count": 39,
     "metadata": {},
     "output_type": "execute_result"
    }
   ],
   "source": [
    "words.sort_values(by='count', ascending=False).iloc[500:510]"
   ]
  },
  {
   "cell_type": "code",
   "execution_count": null,
   "metadata": {
    "collapsed": true
   },
   "outputs": [],
   "source": []
  }
 ],
 "metadata": {
  "kernelspec": {
   "display_name": "Python 3",
   "language": "python",
   "name": "python3"
  },
  "language_info": {
   "codemirror_mode": {
    "name": "ipython",
    "version": 3
   },
   "file_extension": ".py",
   "mimetype": "text/x-python",
   "name": "python",
   "nbconvert_exporter": "python",
   "pygments_lexer": "ipython3",
   "version": "3.6.1"
  }
 },
 "nbformat": 4,
 "nbformat_minor": 2
}
